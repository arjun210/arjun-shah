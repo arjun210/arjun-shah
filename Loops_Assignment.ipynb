{
  "nbformat": 4,
  "nbformat_minor": 0,
  "metadata": {
    "colab": {
      "provenance": [],
      "authorship_tag": "ABX9TyPbrZKaRnvSqm4xxi1QIeko",
      "include_colab_link": true
    },
    "kernelspec": {
      "name": "python3",
      "display_name": "Python 3"
    },
    "language_info": {
      "name": "python"
    }
  },
  "cells": [
    {
      "cell_type": "markdown",
      "metadata": {
        "id": "view-in-github",
        "colab_type": "text"
      },
      "source": [
        "<a href=\"https://colab.research.google.com/github/arjun210/arjun-shah/blob/master/Loops_Assignment.ipynb\" target=\"_parent\"><img src=\"https://colab.research.google.com/assets/colab-badge.svg\" alt=\"Open In Colab\"/></a>"
      ]
    },
    {
      "cell_type": "code",
      "execution_count": null,
      "metadata": {
        "id": "505weoUurqF5",
        "colab": {
          "base_uri": "https://localhost:8080/"
        },
        "outputId": "ad374529-f8ca-400d-be30-f7fb97906279"
      },
      "outputs": [
        {
          "output_type": "stream",
          "name": "stdout",
          "text": [
            "Before swapping: a = 5 , b = 10\n",
            "After swapping: a = 10 , b = 5\n"
          ]
        }
      ],
      "source": [
        "#1 Swap two numbers using 3rd variable\n",
        "# define the numbers\n",
        "a = 5\n",
        "b = 10\n",
        "\n",
        "# print the original values\n",
        "print(\"Before swapping: a =\", a, \", b =\", b)\n",
        "\n",
        "# use a third variable to swap\n",
        "temp = a\n",
        "a = b\n",
        "b = temp\n",
        "\n",
        "# print the swapped values\n",
        "print(\"After swapping: a =\", a, \", b =\", b)\n",
        "\n"
      ]
    },
    {
      "cell_type": "code",
      "source": [
        "#2) Remove duplicate elements from a list without converting to tuple\n",
        "lst1=[1,2,3,1,2,3,1,2,3,'apple','apple']\n",
        "set1=set(lst1)\n",
        "print(set1)"
      ],
      "metadata": {
        "colab": {
          "base_uri": "https://localhost:8080/"
        },
        "id": "XFt0X8JryVeZ",
        "outputId": "8b9960fb-931a-4718-dea2-142bef817ee4"
      },
      "execution_count": null,
      "outputs": [
        {
          "output_type": "stream",
          "name": "stdout",
          "text": [
            "{'apple', 1, 2, 3}\n"
          ]
        }
      ]
    },
    {
      "cell_type": "code",
      "source": [
        "# 3) Write a program to find greatest common divisor (GCD) or highest common factor (HCF) of given two numbers\n",
        "\n",
        "number=int(input(\"Enter any number here: \"))\n",
        "number1 = int(input(\"Enter another number hrere: \"))\n",
        "\n",
        "for i in range(min(number, number1),0,-1):\n",
        "  if number%i==0 and number1%i==0:\n",
        "    gcd=i\n",
        "    break\n",
        "print(\"The GCD of\", number, \"and\", number1, \"is:\", gcd)\n"
      ],
      "metadata": {
        "id": "NZ3RBMjUyj-Q",
        "colab": {
          "base_uri": "https://localhost:8080/"
        },
        "outputId": "2ca5c94f-dbd4-4d49-da63-e3f353c1cc70"
      },
      "execution_count": null,
      "outputs": [
        {
          "output_type": "stream",
          "name": "stdout",
          "text": [
            "Enter any number here: 20\n",
            "Enter another number hrere: 28\n",
            "The GCD of 20 and 28 is: 4\n"
          ]
        }
      ]
    },
    {
      "cell_type": "code",
      "source": [
        "# 4) Write a loop to print following series\n",
        "#10, 20, 30,  …………………, 300\n",
        "\n",
        "for i in range(1,301):\n",
        "  print(i*10, end=' ')\n",
        "\n"
      ],
      "metadata": {
        "id": "4YaCjXG3so7A",
        "colab": {
          "base_uri": "https://localhost:8080/"
        },
        "outputId": "a15e38b0-e584-4f75-8b70-d8d23fa4cb59"
      },
      "execution_count": null,
      "outputs": [
        {
          "output_type": "stream",
          "name": "stdout",
          "text": [
            "10 20 30 40 50 60 70 80 90 100 110 120 130 140 150 160 170 180 190 200 210 220 230 240 250 260 270 280 290 300 310 320 330 340 350 360 370 380 390 400 410 420 430 440 450 460 470 480 490 500 510 520 530 540 550 560 570 580 590 600 610 620 630 640 650 660 670 680 690 700 710 720 730 740 750 760 770 780 790 800 810 820 830 840 850 860 870 880 890 900 910 920 930 940 950 960 970 980 990 1000 1010 1020 1030 1040 1050 1060 1070 1080 1090 1100 1110 1120 1130 1140 1150 1160 1170 1180 1190 1200 1210 1220 1230 1240 1250 1260 1270 1280 1290 1300 1310 1320 1330 1340 1350 1360 1370 1380 1390 1400 1410 1420 1430 1440 1450 1460 1470 1480 1490 1500 1510 1520 1530 1540 1550 1560 1570 1580 1590 1600 1610 1620 1630 1640 1650 1660 1670 1680 1690 1700 1710 1720 1730 1740 1750 1760 1770 1780 1790 1800 1810 1820 1830 1840 1850 1860 1870 1880 1890 1900 1910 1920 1930 1940 1950 1960 1970 1980 1990 2000 2010 2020 2030 2040 2050 2060 2070 2080 2090 2100 2110 2120 2130 2140 2150 2160 2170 2180 2190 2200 2210 2220 2230 2240 2250 2260 2270 2280 2290 2300 2310 2320 2330 2340 2350 2360 2370 2380 2390 2400 2410 2420 2430 2440 2450 2460 2470 2480 2490 2500 2510 2520 2530 2540 2550 2560 2570 2580 2590 2600 2610 2620 2630 2640 2650 2660 2670 2680 2690 2700 2710 2720 2730 2740 2750 2760 2770 2780 2790 2800 2810 2820 2830 2840 2850 2860 2870 2880 2890 2900 2910 2920 2930 2940 2950 2960 2970 2980 2990 3000 "
          ]
        }
      ]
    },
    {
      "cell_type": "code",
      "source": [
        "# 5) Write a loop to print following series\n",
        "#105,98,91,………………………,7\n",
        "\n",
        "\n",
        "for i in range(7, 106):\n",
        "  if i%7==0:\n",
        "    print(i)"
      ],
      "metadata": {
        "id": "0C9KFYy6s24A",
        "colab": {
          "base_uri": "https://localhost:8080/"
        },
        "outputId": "0246a121-7b1b-4b07-bc9c-1fe482d65a26"
      },
      "execution_count": null,
      "outputs": [
        {
          "output_type": "stream",
          "name": "stdout",
          "text": [
            "7\n",
            "14\n",
            "21\n",
            "28\n",
            "35\n",
            "42\n",
            "49\n",
            "56\n",
            "63\n",
            "70\n",
            "77\n",
            "84\n",
            "91\n",
            "98\n",
            "105\n"
          ]
        }
      ]
    },
    {
      "cell_type": "code",
      "source": [
        "# 6) Write a program to print number names of digits in a number like \n",
        "#SAMPLE INPUT 231 \t\tSAMPLE OUTPUT TWO THREE ONE\n",
        "\n",
        "dict1={\n",
        "    '0': 'ZERO',\n",
        "    '1': 'ONE',\n",
        "    '2': 'TWO',\n",
        "    '3': 'THREE',\n",
        "    '4': 'FOUR',\n",
        "    '5': 'FIVE',\n",
        "    '6': 'SIX',\n",
        "    '7': 'SEVEN',\n",
        "    '8': 'EIGHT',\n",
        "    '9': 'NINE'\n",
        "}\n",
        "\n",
        "number1= input(\"Enter any Number: \")\n",
        "\n",
        "for i in number1:\n",
        "  print(dict1[i], end= ' ')"
      ],
      "metadata": {
        "id": "9eKsrNsOtJQs",
        "colab": {
          "base_uri": "https://localhost:8080/"
        },
        "outputId": "76900d2e-ab41-4898-ea08-ed08c7f16427"
      },
      "execution_count": null,
      "outputs": [
        {
          "output_type": "stream",
          "name": "stdout",
          "text": [
            "Enter any Number: 231\n",
            "TWO THREE ONE "
          ]
        }
      ]
    },
    {
      "cell_type": "code",
      "source": [
        "# 7) Write a program to print Fibonacci series till n terms take n =50:\n",
        "\n",
        "\n",
        "#Fibonacci series=0,1,1,2,3,5,8,13,21,34......\n",
        "\n",
        "\n",
        "n = 50\n",
        "a = 0\n",
        "b = 1\n",
        "print(a, b, end=' ')\n",
        "for i in range(3, n+1):\n",
        "    c = a + b\n",
        "    print(c, end=' ')\n",
        "    a = b\n",
        "    b = c\n",
        "\n",
        "\n"
      ],
      "metadata": {
        "colab": {
          "base_uri": "https://localhost:8080/"
        },
        "id": "6B9ouYtx0fJ1",
        "outputId": "0dd5e169-b594-4730-b2fc-3cf9ad22c9d6"
      },
      "execution_count": null,
      "outputs": [
        {
          "output_type": "stream",
          "name": "stdout",
          "text": [
            "0 1 1 2 3 5 8 13 21 34 55 89 144 233 377 610 987 1597 2584 4181 6765 10946 17711 28657 46368 75025 121393 196418 317811 514229 832040 1346269 2178309 3524578 5702887 9227465 14930352 24157817 39088169 63245986 102334155 165580141 267914296 433494437 701408733 1134903170 1836311903 2971215073 4807526976 7778742049 "
          ]
        }
      ]
    },
    {
      "cell_type": "code",
      "source": [
        "# # 8) Write a program to print factorial of a number\n",
        "def factorial(n):\n",
        "    fact = 1\n",
        "    for i in range(n):\n",
        "        fact *= i+1\n",
        "    return fact\n",
        "\n",
        "result = factorial(5)\n",
        "print(result)\n",
        "\n"
      ],
      "metadata": {
        "colab": {
          "base_uri": "https://localhost:8080/"
        },
        "id": "7KMak-5D2qU1",
        "outputId": "1cc2582b-5776-422b-b43e-ab8576d19c3b"
      },
      "execution_count": null,
      "outputs": [
        {
          "output_type": "stream",
          "name": "stdout",
          "text": [
            "120\n"
          ]
        }
      ]
    },
    {
      "cell_type": "code",
      "source": [
        "# 9) Write a program to check if a number is Armstrong or not\n",
        "\n",
        "def is_armstrong_number(num):\n",
        "    # Determine the number of digits\n",
        "    num_str = str(num)\n",
        "    num_digits = len(num_str)\n",
        "    \n",
        "    # Separate each digit, raise to the power of num_digits, and sum up the results\n",
        "    sum_of_digits = sum(int(digit) ** num_digits for digit in num_str)\n",
        "    \n",
        "    # Check if the sum is equal to the original number\n",
        "    if sum_of_digits == num:\n",
        "        return True\n",
        "    else:\n",
        "        return False\n",
        "\n",
        "# Example usage\n",
        "num = int(input(\"Enter a number: \"))\n",
        "if is_armstrong_number(num):\n",
        "    print(num, \"is an Armstrong number.\")\n",
        "else:\n",
        "    print(num, \"is not an Armstrong number.\")\n"
      ],
      "metadata": {
        "colab": {
          "base_uri": "https://localhost:8080/"
        },
        "id": "dvh0PN6c60Q3",
        "outputId": "98cf9040-98db-49de-c0e7-9e2934d5ded3"
      },
      "execution_count": null,
      "outputs": [
        {
          "output_type": "stream",
          "name": "stdout",
          "text": [
            "Enter a number: 153\n",
            "153 is an Armstrong number.\n"
          ]
        }
      ]
    },
    {
      "cell_type": "code",
      "source": [
        "#10) Write a program to convert binary to decimal:\n",
        "def binary_to_decimal(binary):\n",
        "    strbinary = str(binary)\n",
        "    decimal = int(strbinary, 2)\n",
        "    return decimal\n",
        "\n",
        "binary = input(\"Enter a binary number: \")\n",
        "decimal = binary_to_decimal(binary)\n",
        "print(\"The decimal equivalent of binary\", binary, \"is:\", decimal)\n",
        "\n"
      ],
      "metadata": {
        "colab": {
          "base_uri": "https://localhost:8080/"
        },
        "id": "fN05y30sGny-",
        "outputId": "573b0fec-6771-479a-cff9-a8ad32fd60d7"
      },
      "execution_count": null,
      "outputs": [
        {
          "output_type": "stream",
          "name": "stdout",
          "text": [
            "Enter a binary number: 11011000\n",
            "The decimal equivalent of binary 11011000 is: 216\n"
          ]
        }
      ]
    },
    {
      "cell_type": "code",
      "source": [
        "#11) Write a program to convert decimal to binary\n",
        "\n",
        "def decimal_to_binary(decimal):\n",
        "    binary = bin(decimal)\n",
        "    return binary[2:]  # remove '0b' prefix\n",
        "\n",
        "decimal = int(input(\"Enter a decimal number: \"))\n",
        "binary = decimal_to_binary(decimal)\n",
        "print(\"The binary equivalent of decimal\", decimal, \"is:\", binary)\n"
      ],
      "metadata": {
        "id": "u_cTTRDiIpUY"
      },
      "execution_count": null,
      "outputs": []
    },
    {
      "cell_type": "code",
      "source": [
        "#12) Write a program to check if number is palindrome on not (Without converting to string)\n",
        "\n",
        "def is_palindrome(name):\n",
        "  return name == name[::-1]\n",
        "\n",
        "\n",
        "name=input(\"Enter palindrome here:\")\n",
        "\n",
        "if is_palindrome(name):\n",
        "  print(name, \"is palindrome\")\n",
        "else:\n",
        "  print(\"Its not\")\n"
      ],
      "metadata": {
        "id": "jisHUbr9JCMJ"
      },
      "execution_count": null,
      "outputs": []
    },
    {
      "cell_type": "code",
      "source": [
        "#13) Write a program to print all numbers which are divisible by 13 but not by 3 between 100 and 500\n",
        "\n",
        "def divisible(number):\n",
        "  return number%13==0 and not number%3==0\n",
        "\n",
        "for i in range(100, 501):\n",
        "  if divisible(i):  \n",
        "    print(i, \"is divisible by 13 & not 3\")\n",
        " "
      ],
      "metadata": {
        "id": "KVfy5P7wKxtE"
      },
      "execution_count": null,
      "outputs": []
    },
    {
      "cell_type": "code",
      "source": [
        "# Function to check divisibility\n",
        "def divisible(number):\n",
        "    return number % 13 == 0 and number % 3 != 0\n",
        "\n",
        "# Ask user for input and validate it\n",
        "while True:\n",
        "    number = int(input(\"Enter a number that is greater than 100 and less than 500: \"))\n",
        "    if 100 <= number <= 500:\n",
        "        break\n",
        "    print(\"The number should be greater than 100 and less than 500. Please try again.\")\n",
        "\n",
        "# Check the inputted number for divisibility\n",
        "if divisible(number):\n",
        "    print(number, \"is divisible by 13 but not by 3\")\n",
        "else:\n",
        "    print(number, \"is not divisible by 13 or is divisible by 3\")\n"
      ],
      "metadata": {
        "id": "h6U_OgD8sgmP"
      },
      "execution_count": null,
      "outputs": []
    },
    {
      "cell_type": "code",
      "source": [
        "#14) Write a Python program to convert temperatures to and from Celsius and Fahrenheit.\n",
        "def convert_temperature(temp, scale):\n",
        "    if scale.lower() == \"celsius\":\n",
        "        return temp * 9/5 + 32\n",
        "    elif scale.lower() == \"fahrenheit\":\n",
        "        return (temp - 32) * 5/9\n",
        "    else:\n",
        "        return None\n",
        "        \n",
        "temp = float(input(\"What is the temperature? \"))\n",
        "scale = input(\"What is the scale of the temperature (Celsius or Fahrenheit)? \")\n",
        "\n",
        "converted_temp = convert_temperature(temp, scale)\n",
        "\n",
        "if converted_temp is not None:\n",
        "    if scale.lower() == \"celsius\":\n",
        "        print(temp,\" degrees Celsius is equal to\", converted_temp, \"degrees Fahrenheit.\")\n",
        "    else:\n",
        "        print(temp,\" degrees Fahrenheit is equal to\", converted_temp, \"degrees Celsius.\")\n",
        "else:\n",
        "    print(\"Invalid scale. Please enter either Celsius or Fahrenheit.\")\n"
      ],
      "metadata": {
        "id": "sRHGoCg8xAvS"
      },
      "execution_count": null,
      "outputs": []
    },
    {
      "cell_type": "code",
      "source": [
        "# 15) Write a Python program that takes two digits m (row) and n (column) as input and generates a two-dimensional array. \n",
        "# 3The element value in the i-th row and j-th column of the array should be i*j. else it will be 0\n",
        "\n",
        "def generate_2d_array(m, n):\n",
        "    arr = []\n",
        "    for i in range(m):\n",
        "        row = []\n",
        "        for j in range(n):\n",
        "            if i * j:\n",
        "                row.append(i * j)\n",
        "                print()\n",
        "            else:\n",
        "                row.append(0)\n",
        "        arr.append(row)\n",
        "    return arr\n",
        "\n",
        "m = int(input(\"Input number of rows: \"))\n",
        "n = int(input(\"Input number of columns: \"))\n",
        "print(generate_2d_array(m, n))\n",
        "\n",
        "\n"
      ],
      "metadata": {
        "id": "6UbQWY-0MSEh"
      },
      "execution_count": null,
      "outputs": []
    },
    {
      "cell_type": "code",
      "source": [
        "# 16. Write a Python program that accepts a string and calculates the number of digits and letters.\n",
        "# Sample Data: Python 3.2\n",
        "# Expected Output: \n",
        "# Letters 6\n",
        "# Digits 2\n",
        "\n",
        "def count_digits_letters(s):\n",
        "    d = {'Digits': 0, 'Letters': 0}\n",
        "    for c in s:\n",
        "        if c.isdigit():\n",
        "            d['Digits'] += 1\n",
        "        elif c.isalpha():\n",
        "            d['Letters'] += 1\n",
        "    return d\n",
        "\n",
        "s = input(\"Input a string: \")\n",
        "d = count_digits_letters(s)\n",
        "print(\"Letters\", d['Letters'])\n",
        "print(\"Digits\", d['Digits'])\n",
        "\n"
      ],
      "metadata": {
        "id": "XHabFNHaMVZH"
      },
      "execution_count": null,
      "outputs": []
    },
    {
      "cell_type": "code",
      "source": [
        "# 17) Print all possible combination for a string or a word\n",
        "# Sample input “ABC”\n",
        "# Sample output\n",
        "# BAC\n",
        "# CAB\n",
        "# CBA\n",
        "# ACB\n",
        "# BCA\n",
        "\n",
        "def string_combinations(s):\n",
        "    if len(s) == 0:\n",
        "        return ['']\n",
        "    else:\n",
        "        combinations = []\n",
        "        for i in range(len(s)):\n",
        "            rest = s[:i] + s[i+1:]\n",
        "            for p in string_combinations(rest):\n",
        "                combinations.append(s[i] + p)\n",
        "        return combinations\n",
        "\n",
        "s = input(\"Input a string: \")\n",
        "print(string_combinations(s))\n",
        "\n",
        "\n",
        " "
      ],
      "metadata": {
        "id": "J4A3sAO-MYm9"
      },
      "execution_count": null,
      "outputs": []
    },
    {
      "cell_type": "code",
      "source": [
        "\n",
        "# 18) Write a Python program to check if a triangle is equilateral, isosceles or scalene. Take 3 inputs for each side\n",
        "\n",
        "# Note :\n",
        "# An equilateral triangle is a triangle in which all three sides are equal.\n",
        "# A scalene triangle is a triangle that has three unequal sides.\n",
        "# An isosceles triangle is a triangle with (at least) two equal sides.\n",
        "\n",
        " def triangle_type(a, b, c):\n",
        "    if a == b == c:\n",
        "        return \"Equilateral\"\n",
        "    elif a == b or b == c or c == a:\n",
        "        return \"Isosceles\"\n",
        "    else:\n",
        "        return \"Scalene\"\n",
        "\n",
        "a = int(input(\"Input side a: \"))\n",
        "b = int(input(\"Input side b: \"))\n",
        "c = int(input(\"Input side c: \"))\n",
        "print(triangle_type(a, b, c))\n"
      ],
      "metadata": {
        "id": "g9MixpXDMbBJ"
      },
      "execution_count": null,
      "outputs": []
    },
    {
      "cell_type": "code",
      "source": [
        "# 19) Write a Python program to get the next day of a given date.\n",
        "# Expected Output:\n",
        "# Input a year: 2016                                                      \n",
        "# Input a month [1-12]: 08                                                \n",
        "# Input a day [1-31]: 23                                                  \n",
        "# The next date is [yyyy-mm-dd] 2016-8-24\n",
        "\n",
        "\n",
        "def next_day(y, m, d):\n",
        "    if m in (1, 3, 5, 7, 8, 10, 12):\n",
        "        month_length = 31\n",
        "    elif m == 2:\n",
        "        if y % 4 == 0:\n",
        "            if y % 100 == 0:\n",
        "                if y % 400 == 0:\n",
        "                    month_length = 29\n",
        "                else:\n",
        "                    month_length = 28\n",
        "            else:\n",
        "                month_length = 29\n",
        "        else:\n",
        "            month_length = 28\n",
        "    else:\n",
        "        month_length = 30\n",
        "\n",
        "    if d < month_length:\n",
        "        d += 1\n",
        "    else:\n",
        "        d = 1\n",
        "        if m == 12:\n",
        "            m = 1\n",
        "            y += 1\n",
        "        else:\n",
        "            m += 1\n",
        "\n",
        "    return y, m, d\n",
        "\n",
        "y = int(input(\"Input a year: \"))\n",
        "m = int(input(\"Input a month [1-12]: \"))\n",
        "d = int(input(\"Input a day [1-31]: \"))\n",
        "y, m, d = next_day(y, m, d)\n",
        "print(\"The next date is [yyyy-mm-dd] {}-{}-{}\".format(y, m, d))\n"
      ],
      "metadata": {
        "id": "i4KhM77QMffK"
      },
      "execution_count": null,
      "outputs": []
    }
  ]
}